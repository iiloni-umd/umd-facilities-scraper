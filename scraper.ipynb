{
 "cells": [
  {
   "cell_type": "code",
   "execution_count": 1,
   "metadata": {},
   "outputs": [],
   "source": [
    "import requests\n",
    "from bs4 import BeautifulSoup as bs\n",
    "import json\n",
    "import re"
   ]
  },
  {
   "cell_type": "code",
   "execution_count": 2,
   "metadata": {},
   "outputs": [],
   "source": [
    "NUM_PAGES = 31\n",
    "data = []"
   ]
  },
  {
   "cell_type": "code",
   "execution_count": 3,
   "metadata": {},
   "outputs": [],
   "source": [
    "def scrapePage(page):\n",
    "    page_data = []\n",
    "\n",
    "    facilities_source = requests.get('https://facilities.umd.edu/info-resources/building-inventory?page=' + str(page))\n",
    "    soup = bs(facilities_source.content)\n",
    "    for bldg in soup.find_all('article'):\n",
    "        bldg_data = {}\n",
    "\n",
    "        bldg_id = bldg.find(class_='bldg-top').find('a').contents[0].string\n",
    "        match = re.match(r\"(\\d{3}) - (.*)\", bldg_id)\n",
    "\n",
    "        bldg_data['id'] = [match[1]]\n",
    "        bldg_data['name'] = [match[2].title()]\n",
    "\n",
    "        bldg_info = bldg.find(id='bldg-info')\n",
    "        for field in bldg_info.find_all(class_='field'):\n",
    "            label = field.find(class_='field__label').contents[0].string\n",
    "            value = field.find(class_='field__item')\n",
    "            content = value.attrs.get('content')\n",
    "            value = value.contents[0]\n",
    "            if value.string == None:\n",
    "                value = value.contents[0].string\n",
    "            else:\n",
    "                value = value.string\n",
    "            if content:\n",
    "                bldg_data[label] = [value, float(content)]\n",
    "            else:\n",
    "                bldg_data[label] = [value]\n",
    "        page_data.append(bldg_data)\n",
    "    data.extend(page_data)"
   ]
  },
  {
   "cell_type": "code",
   "execution_count": 4,
   "metadata": {},
   "outputs": [],
   "source": [
    "for page in range(NUM_PAGES):\n",
    "    scrapePage(page)\n",
    "\n",
    "with open('allFacilities.json', 'w') as f:\n",
    "    json.dump(data, f)"
   ]
  }
 ],
 "metadata": {
  "kernelspec": {
   "display_name": "venv",
   "language": "python",
   "name": "python3"
  },
  "language_info": {
   "codemirror_mode": {
    "name": "ipython",
    "version": 3
   },
   "file_extension": ".py",
   "mimetype": "text/x-python",
   "name": "python",
   "nbconvert_exporter": "python",
   "pygments_lexer": "ipython3",
   "version": "3.8.10"
  }
 },
 "nbformat": 4,
 "nbformat_minor": 2
}
